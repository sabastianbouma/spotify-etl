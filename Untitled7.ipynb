{
 "cells": [
  {
   "cell_type": "code",
   "execution_count": 1,
   "metadata": {
    "ExecuteTime": {
     "end_time": "2021-08-11T12:47:22.598822Z",
     "start_time": "2021-08-11T12:47:19.996008Z"
    }
   },
   "outputs": [],
   "source": [
    "import pandas as pd\n",
    "import json\n",
    "import requests\n",
    "PLAYLIST_ID = '4KSvFXi3cuV7x44sSNVgBy'\n",
    "URL2 = \"https://api.spotify.com/v1/albums/\"\n",
    "TOKEN = 'BQBKkim1uq4Ax9-KkZUVqmgxw568615PRBHdxE09pg4UTujf0dxLGjz1M0PzgdEEcAZqDhJ2-ijNyd2RZi5uCz_Gqj_4ZBbYFncrRlv1SHszv9UYBR6YW4JOvInsiFB_tcKWi5I0xiW7AqVh4zJFZz6p4hvXbFU3gdBqyYf1MHKaoXC6iu15651UM00gZO40ZU2K777mAVOQ5rxQFy1cpLGwgRbsWaVGfvHsYj8DpFvjxxi2v6USl8buhw2omisR3cYp8e0zfUbo6h6ZcugbBWghnn1pTbPKqQ'"
   ]
  },
  {
   "cell_type": "code",
   "execution_count": 2,
   "metadata": {
    "ExecuteTime": {
     "end_time": "2021-08-11T12:47:45.832754Z",
     "start_time": "2021-08-11T12:47:45.816871Z"
    }
   },
   "outputs": [
    {
     "data": {
      "text/plain": [
       "'BQBKkim1uq4Ax9-KkZUVqmgxw568615PRBHdxE09pg4UTujf0dxLGjz1M0PzgdEEcAZqDhJ2-ijNyd2RZi5uCz_Gqj_4ZBbYFncrRlv1SHszv9UYBR6YW4JOvInsiFB_tcKWi5I0xiW7AqVh4zJFZz6p4hvXbFU3gdBqyYf1MHKaoXC6iu15651UM00gZO40ZU2K777mAVOQ5rxQFy1cpLGwgRbsWaVGfvHsYj8DpFvjxxi2v6USl8buhw2omisR3cYp8e0zfUbo6h6ZcugbBWghnn1pTbPKqQ'"
      ]
     },
     "execution_count": 2,
     "metadata": {},
     "output_type": "execute_result"
    }
   ],
   "source": [
    "TOKEN"
   ]
  },
  {
   "cell_type": "code",
   "execution_count": 3,
   "metadata": {
    "ExecuteTime": {
     "end_time": "2021-08-11T12:47:46.538854Z",
     "start_time": "2021-08-11T12:47:46.532842Z"
    }
   },
   "outputs": [],
   "source": [
    "def read_playlist(offset, limit):\n",
    "    url = \"https://api.spotify.com/v1/playlists/\"+PLAYLIST_ID+\"/tracks?limit=\"+str(limit)+\"&offset=\"+str(offset)\n",
    "    headers = {'Authorization': \"Bearer {}\".format(TOKEN)}\n",
    "    r = requests.get(url, headers=headers)\n",
    "    read_file = json.loads(r.text)\n",
    "    return(read_file)"
   ]
  },
  {
   "cell_type": "code",
   "execution_count": 4,
   "metadata": {
    "ExecuteTime": {
     "end_time": "2021-08-11T12:47:46.928763Z",
     "start_time": "2021-08-11T12:47:46.923984Z"
    }
   },
   "outputs": [],
   "source": [
    "def blnk_df():\n",
    "    album_keys = ['Album', 'Artist', 'Release Date', 'Year', 'No. Tracks', 'Label', 'Popularity', 'id', 'Album Art']\n",
    "    blank_df = pd.DataFrame(columns = album_keys)\n",
    "    return(blank_df)"
   ]
  },
  {
   "cell_type": "code",
   "execution_count": 5,
   "metadata": {
    "ExecuteTime": {
     "end_time": "2021-08-11T12:47:47.267825Z",
     "start_time": "2021-08-11T12:47:47.242116Z"
    }
   },
   "outputs": [],
   "source": [
    "def create_df(ranked_playlist, new_album_df, limit):\n",
    "    for i in range(0,limit):\n",
    "        album_id = ranked_playlist['items'][i]['track']['album']['id']\n",
    "        if album_id == None:\n",
    "\n",
    "            name = ranked_playlist['items'][i]['track']['album']['name']\n",
    "            artist = ranked_playlist['items'][i]['track']['artists'][0]['name']\n",
    "            print('LOCAL FILE:\\t', name, '\\n')\n",
    "            new_album_df = new_album_df.append(pd.Series([name, artist, '','','','','','',''], index=new_album_df.columns), ignore_index=True)\n",
    "            continue\n",
    "        headers = {'Authorization': \"Bearer {}\".format(TOKEN)}\n",
    "        r1 = requests.get(URL2+album_id, headers=headers)\n",
    "        album_x = json.loads(r1.text)\n",
    "        album_name = album_x['name']\n",
    "        artist_name = album_x['artists'][0]['name']\n",
    "        album_date = album_x['release_date']\n",
    "        album_year = album_date[0:4]\n",
    "        album_id = album_x['id']\n",
    "        album_pop = album_x['popularity']\n",
    "        album_label = album_x['label']\n",
    "        album_ntracks = album_x['total_tracks']\n",
    "        album_art_url = album_x['images'][0]['url']\n",
    "\n",
    "        album_list = [album_name, artist_name, album_date, album_year, album_ntracks, album_label, album_pop, album_id, album_art_url]\n",
    "        new_album_df = new_album_df.append(pd.Series(album_list, index=new_album_df.columns), ignore_index=True)\n",
    "    return(new_album_df)"
   ]
  },
  {
   "cell_type": "code",
   "execution_count": 6,
   "metadata": {
    "ExecuteTime": {
     "end_time": "2021-08-11T12:48:02.526779Z",
     "start_time": "2021-08-11T12:47:48.129326Z"
    }
   },
   "outputs": [
    {
     "name": "stdout",
     "output_type": "stream",
     "text": [
      "Enter the URL you were redirected to: https://developer.spotify.com/dashboard/applications?code=AQD0Pkzt5CvwOQM7pFgYXN9_4TOuAAq2a1pVtyHSOhVmRdzaV9-D2nPGpyY2fFfgfxBCYBfRVuLj8r2hJgdnE0K1LbBiCX-Ekk-7I3pHcFQOQUajl1JAqgljU9rYvzyzvOLhrB_4SAi_iI7O50OjL0sNjp7qzcyi62LqIXQyODEu8e_bTAN_ZSt9H1C7Cqh34HQsVUttvPfYSP3JpD0aPGtoUBnVnO-hvK2-DEbZT1RGh7Fd9FB6d6qN42iLtA2qhI2uCAfVRHpsRYyeDfaHY03yTw7hQOSklhopmglXbFWVyYaioUV-VIeWg7GFJweVWpKSSNnKkoT3CDqzN78DSfpUiQhsOLORCSnW5xsBSI0oyIkZVmqFtvtp88KQ_1oRwEhhsCz--coHxPNttK8\n"
     ]
    }
   ],
   "source": [
    "import pandas as pd\n",
    "import json\n",
    "import requests\n",
    "import spotipy\n",
    "from spotipy.oauth2 import SpotifyClientCredentials\n",
    "import spotipy.util as util\n",
    "client_id = '09d24c54f26846ffa2d5a8558bec67ec'\n",
    "client_secret = 'c47357ccf2a34dafb217db4f5ffe19ea'\n",
    "username = '21yobvumig9zige7acjzlues5'\n",
    "playlist_id = '4KSvFXi3cuV7x44sSNVgBy'\n",
    "\n",
    "scope = \"playlist-read-private \"\n",
    "scope += \"playlist-modify-public \"\n",
    "scope += \"playlist-modify-private \"\n",
    "scope += \"user-read-playback-state \"\n",
    "scope += \"user-library-read\"\n",
    "\n",
    "token = util.prompt_for_user_token(username,scope,client_id=client_id,client_secret=client_secret,redirect_uri='https://developer.spotify.com/dashboard/applications/09d24c54f26846ffa2d5a8558bec67ec') \n",
    "sp = spotipy.Spotify(auth=token)"
   ]
  },
  {
   "cell_type": "code",
   "execution_count": 7,
   "metadata": {
    "ExecuteTime": {
     "end_time": "2021-08-11T12:48:05.137944Z",
     "start_time": "2021-08-11T12:48:04.527027Z"
    }
   },
   "outputs": [
    {
     "ename": "NameError",
     "evalue": "name 'ranked_playlist' is not defined",
     "output_type": "error",
     "traceback": [
      "\u001b[0;31m---------------------------------------------------------------------------\u001b[0m",
      "\u001b[0;31mNameError\u001b[0m                                 Traceback (most recent call last)",
      "\u001b[0;32m<ipython-input-7-b46c29c6862d>\u001b[0m in \u001b[0;36m<module>\u001b[0;34m\u001b[0m\n\u001b[0;32m----> 1\u001b[0;31m \u001b[0mids\u001b[0m \u001b[0;34m=\u001b[0m \u001b[0;34m[\u001b[0m\u001b[0malbum\u001b[0m\u001b[0;34m[\u001b[0m\u001b[0;34m'track'\u001b[0m\u001b[0;34m]\u001b[0m\u001b[0;34m[\u001b[0m\u001b[0;34m'album'\u001b[0m\u001b[0;34m]\u001b[0m\u001b[0;34m[\u001b[0m\u001b[0;34m'id'\u001b[0m\u001b[0;34m]\u001b[0m \u001b[0;32mfor\u001b[0m \u001b[0malbum\u001b[0m \u001b[0;32min\u001b[0m \u001b[0mranked_playlist\u001b[0m\u001b[0;34m]\u001b[0m\u001b[0;34m\u001b[0m\u001b[0;34m\u001b[0m\u001b[0m\n\u001b[0m",
      "\u001b[0;31mNameError\u001b[0m: name 'ranked_playlist' is not defined"
     ]
    }
   ],
   "source": [
    "ids = [album['track']['album']['id'] for album in ranked_playlist]"
   ]
  },
  {
   "cell_type": "code",
   "execution_count": 9,
   "metadata": {
    "ExecuteTime": {
     "end_time": "2021-08-11T12:51:08.413465Z",
     "start_time": "2021-08-11T12:49:36.969206Z"
    }
   },
   "outputs": [
    {
     "name": "stdout",
     "output_type": "stream",
     "text": [
      "LOCAL FILE:\t Microphones in 2020 \n",
      "\n",
      "LOCAL FILE:\t The Perfect Prescription \n",
      "\n",
      "LOCAL FILE:\t Exmilitary \n",
      "\n",
      "LOCAL FILE:\t 2049 (DELUXE EDITION) \n",
      "\n",
      "LOCAL FILE:\t Guruh Gipsy \n",
      "\n"
     ]
    }
   ],
   "source": [
    "all_albums = []\n",
    "for j in range (0,5):\n",
    "    ranked_playlist = sp.playlist_tracks(playlist_id, fields=None, limit=100, offset=j*100, market=None)['items']\n",
    "\n",
    "    for album in ranked_playlist:\n",
    "        album_id = album['track']['album']['id']\n",
    "        album_dic = {}\n",
    "        if album_id == None:\n",
    "\n",
    "            album_dic['Album'] = album['track']['album']['name']\n",
    "            album_dic['Artist'] = album['track']['artists'][0]['name']\n",
    "            for info in ['Release Date', 'Year', 'No. Tracks', 'Label', 'Popularity', 'id', 'Album Art']:\n",
    "                album_dic[info] = ''\n",
    "            print('LOCAL FILE:\\t', album_dic['Album'], '\\n')\n",
    "        else:\n",
    "            album_x = sp.album(album_id)\n",
    "            album_dic['Album'] = album_x['name']\n",
    "            album_dic['Artist'] = album_x['artists'][0]['name']\n",
    "            album_dic['Release Date'] = album_x['release_date']\n",
    "            album_dic['Year'] = album_dic['Release Date'][0:4]\n",
    "            album_dic['No. Tracks'] = album_x['total_tracks']\n",
    "            album_dic['Label'] = album_x['label']\n",
    "            album_dic['Popularity'] = album_x['popularity']\n",
    "            album_dic['id'] = album_x['id']\n",
    "            album_dic['Album Art'] = album_x['images'][0]['url']\n",
    "        all_albums.append(album_dic)\n",
    "\n",
    "spotify_album_df = pd.DataFrame(all_albums)"
   ]
  },
  {
   "cell_type": "code",
   "execution_count": 10,
   "metadata": {
    "ExecuteTime": {
     "end_time": "2021-08-11T12:51:12.959539Z",
     "start_time": "2021-08-11T12:51:12.940293Z"
    }
   },
   "outputs": [
    {
     "ename": "NameError",
     "evalue": "name 'ids' is not defined",
     "output_type": "error",
     "traceback": [
      "\u001b[0;31m---------------------------------------------------------------------------\u001b[0m",
      "\u001b[0;31mNameError\u001b[0m                                 Traceback (most recent call last)",
      "\u001b[0;32m<ipython-input-10-eb4deb711a15>\u001b[0m in \u001b[0;36m<module>\u001b[0;34m\u001b[0m\n\u001b[0;32m----> 1\u001b[0;31m \u001b[0mlen\u001b[0m\u001b[0;34m(\u001b[0m\u001b[0mids\u001b[0m\u001b[0;34m)\u001b[0m\u001b[0;34m\u001b[0m\u001b[0;34m\u001b[0m\u001b[0m\n\u001b[0m",
      "\u001b[0;31mNameError\u001b[0m: name 'ids' is not defined"
     ]
    }
   ],
   "source": [
    "len(ids)"
   ]
  },
  {
   "cell_type": "code",
   "execution_count": 11,
   "metadata": {
    "ExecuteTime": {
     "end_time": "2021-08-11T12:51:16.155358Z",
     "start_time": "2021-08-11T12:51:16.137862Z"
    }
   },
   "outputs": [
    {
     "ename": "NameError",
     "evalue": "name 'k' is not defined",
     "output_type": "error",
     "traceback": [
      "\u001b[0;31m---------------------------------------------------------------------------\u001b[0m",
      "\u001b[0;31mNameError\u001b[0m                                 Traceback (most recent call last)",
      "\u001b[0;32m<ipython-input-11-224e64b7fcdf>\u001b[0m in \u001b[0;36m<module>\u001b[0;34m\u001b[0m\n\u001b[0;32m----> 1\u001b[0;31m \u001b[0mk\u001b[0m\u001b[0;34m[\u001b[0m\u001b[0;34m'release_date'\u001b[0m\u001b[0;34m]\u001b[0m\u001b[0;34m\u001b[0m\u001b[0;34m\u001b[0m\u001b[0m\n\u001b[0m",
      "\u001b[0;31mNameError\u001b[0m: name 'k' is not defined"
     ]
    }
   ],
   "source": [
    "k['release_date']"
   ]
  },
  {
   "cell_type": "code",
   "execution_count": 15,
   "metadata": {},
   "outputs": [
    {
     "ename": "KeyError",
     "evalue": "'items'",
     "output_type": "error",
     "traceback": [
      "\u001b[0;31m---------------------------------------------------------------------------\u001b[0m",
      "\u001b[0;31mKeyError\u001b[0m                                  Traceback (most recent call last)",
      "\u001b[0;32m<ipython-input-15-981d5ce76326>\u001b[0m in \u001b[0;36m<module>\u001b[0;34m\u001b[0m\n\u001b[1;32m      5\u001b[0m     \u001b[0mlimit\u001b[0m \u001b[0;34m=\u001b[0m \u001b[0mcounters\u001b[0m\u001b[0;34m[\u001b[0m\u001b[0;36m1\u001b[0m\u001b[0;34m]\u001b[0m\u001b[0;34m[\u001b[0m\u001b[0mi\u001b[0m\u001b[0;34m]\u001b[0m\u001b[0;34m\u001b[0m\u001b[0;34m\u001b[0m\u001b[0m\n\u001b[1;32m      6\u001b[0m     \u001b[0mread_file\u001b[0m \u001b[0;34m=\u001b[0m \u001b[0mread_playlist\u001b[0m\u001b[0;34m(\u001b[0m\u001b[0moffset\u001b[0m\u001b[0;34m,\u001b[0m \u001b[0mlimit\u001b[0m\u001b[0;34m)\u001b[0m\u001b[0;34m\u001b[0m\u001b[0;34m\u001b[0m\u001b[0m\n\u001b[0;32m----> 7\u001b[0;31m     \u001b[0mspotify_album_df\u001b[0m \u001b[0;34m=\u001b[0m \u001b[0mcreate_df\u001b[0m\u001b[0;34m(\u001b[0m\u001b[0mread_file\u001b[0m\u001b[0;34m,\u001b[0m \u001b[0mspotify_album_df\u001b[0m\u001b[0;34m,\u001b[0m \u001b[0mlimit\u001b[0m\u001b[0;34m)\u001b[0m\u001b[0;34m\u001b[0m\u001b[0;34m\u001b[0m\u001b[0m\n\u001b[0m",
      "\u001b[0;32m<ipython-input-7-91f8959604e8>\u001b[0m in \u001b[0;36mcreate_df\u001b[0;34m(ranked_playlist, new_album_df, limit)\u001b[0m\n\u001b[1;32m      1\u001b[0m \u001b[0;32mdef\u001b[0m \u001b[0mcreate_df\u001b[0m\u001b[0;34m(\u001b[0m\u001b[0mranked_playlist\u001b[0m\u001b[0;34m,\u001b[0m \u001b[0mnew_album_df\u001b[0m\u001b[0;34m,\u001b[0m \u001b[0mlimit\u001b[0m\u001b[0;34m)\u001b[0m\u001b[0;34m:\u001b[0m\u001b[0;34m\u001b[0m\u001b[0;34m\u001b[0m\u001b[0m\n\u001b[1;32m      2\u001b[0m     \u001b[0;32mfor\u001b[0m \u001b[0mi\u001b[0m \u001b[0;32min\u001b[0m \u001b[0mrange\u001b[0m\u001b[0;34m(\u001b[0m\u001b[0;36m0\u001b[0m\u001b[0;34m,\u001b[0m\u001b[0mlimit\u001b[0m\u001b[0;34m)\u001b[0m\u001b[0;34m:\u001b[0m\u001b[0;34m\u001b[0m\u001b[0;34m\u001b[0m\u001b[0m\n\u001b[0;32m----> 3\u001b[0;31m         \u001b[0malbum_id\u001b[0m \u001b[0;34m=\u001b[0m \u001b[0mranked_playlist\u001b[0m\u001b[0;34m[\u001b[0m\u001b[0;34m'items'\u001b[0m\u001b[0;34m]\u001b[0m\u001b[0;34m[\u001b[0m\u001b[0mi\u001b[0m\u001b[0;34m]\u001b[0m\u001b[0;34m[\u001b[0m\u001b[0;34m'track'\u001b[0m\u001b[0;34m]\u001b[0m\u001b[0;34m[\u001b[0m\u001b[0;34m'album'\u001b[0m\u001b[0;34m]\u001b[0m\u001b[0;34m[\u001b[0m\u001b[0;34m'id'\u001b[0m\u001b[0;34m]\u001b[0m\u001b[0;34m\u001b[0m\u001b[0;34m\u001b[0m\u001b[0m\n\u001b[0m\u001b[1;32m      4\u001b[0m         \u001b[0;32mif\u001b[0m \u001b[0malbum_id\u001b[0m \u001b[0;34m==\u001b[0m \u001b[0;32mNone\u001b[0m\u001b[0;34m:\u001b[0m\u001b[0;34m\u001b[0m\u001b[0;34m\u001b[0m\u001b[0m\n\u001b[1;32m      5\u001b[0m \u001b[0;34m\u001b[0m\u001b[0m\n",
      "\u001b[0;31mKeyError\u001b[0m: 'items'"
     ]
    }
   ],
   "source": [
    "counters = [[0,100,200,300,400],[100,100,100,100,33]]\n",
    "spotify_album_df = blnk_df()\n",
    "for i in range(0,len(counters[0])):\n",
    "    offset = counters[0][i]\n",
    "    limit = counters[1][i]\n",
    "    read_file = read_playlist(offset, limit)\n",
    "    spotify_album_df = create_df(read_file, spotify_album_df, limit)"
   ]
  },
  {
   "cell_type": "code",
   "execution_count": 12,
   "metadata": {
    "ExecuteTime": {
     "end_time": "2021-08-11T12:51:31.344762Z",
     "start_time": "2021-08-11T12:51:31.310173Z"
    }
   },
   "outputs": [
    {
     "data": {
      "text/plain": [
       "'https://i.scdn.co/image/ab67616d0000b273006a67029cdb27f19516ecf3'"
      ]
     },
     "execution_count": 12,
     "metadata": {},
     "output_type": "execute_result"
    }
   ],
   "source": [
    "spotify_album_df.at[40,'Album Art']"
   ]
  },
  {
   "cell_type": "code",
   "execution_count": 13,
   "metadata": {
    "ExecuteTime": {
     "end_time": "2021-08-11T12:51:35.336358Z",
     "start_time": "2021-08-11T12:51:35.294782Z"
    }
   },
   "outputs": [
    {
     "data": {
      "text/html": [
       "<div>\n",
       "<style scoped>\n",
       "    .dataframe tbody tr th:only-of-type {\n",
       "        vertical-align: middle;\n",
       "    }\n",
       "\n",
       "    .dataframe tbody tr th {\n",
       "        vertical-align: top;\n",
       "    }\n",
       "\n",
       "    .dataframe thead th {\n",
       "        text-align: right;\n",
       "    }\n",
       "</style>\n",
       "<table border=\"1\" class=\"dataframe\">\n",
       "  <thead>\n",
       "    <tr style=\"text-align: right;\">\n",
       "      <th></th>\n",
       "      <th>Album</th>\n",
       "      <th>Artist</th>\n",
       "      <th>Release Date</th>\n",
       "      <th>Year</th>\n",
       "      <th>No. Tracks</th>\n",
       "      <th>Label</th>\n",
       "      <th>Popularity</th>\n",
       "      <th>id</th>\n",
       "      <th>Album Art</th>\n",
       "    </tr>\n",
       "  </thead>\n",
       "  <tbody>\n",
       "    <tr>\n",
       "      <th>0</th>\n",
       "      <td>Souvlaki</td>\n",
       "      <td>Slowdive</td>\n",
       "      <td>1994-11-05</td>\n",
       "      <td>1994</td>\n",
       "      <td>19</td>\n",
       "      <td>Sony Music UK</td>\n",
       "      <td>49</td>\n",
       "      <td>4i21O3uVh5palcfFhCjlT7</td>\n",
       "      <td>https://i.scdn.co/image/ab67616d0000b27353da07...</td>\n",
       "    </tr>\n",
       "    <tr>\n",
       "      <th>1</th>\n",
       "      <td>Remain in Light (Deluxe Version)</td>\n",
       "      <td>Talking Heads</td>\n",
       "      <td>1980-10-08</td>\n",
       "      <td>1980</td>\n",
       "      <td>12</td>\n",
       "      <td>Rhino/Warner Records</td>\n",
       "      <td>62</td>\n",
       "      <td>3AQgdwMNCiN7awXch5fAaG</td>\n",
       "      <td>https://i.scdn.co/image/ab67616d0000b273e56fa8...</td>\n",
       "    </tr>\n",
       "    <tr>\n",
       "      <th>2</th>\n",
       "      <td>98.12.28 男達の別れ (Live)</td>\n",
       "      <td>Fishmans</td>\n",
       "      <td>1999-09-29</td>\n",
       "      <td>1999</td>\n",
       "      <td>14</td>\n",
       "      <td>Universal Music LLC</td>\n",
       "      <td>43</td>\n",
       "      <td>5K4YFkTizFoMOyN5Khfp7G</td>\n",
       "      <td>https://i.scdn.co/image/ab67616d0000b273b8b2f6...</td>\n",
       "    </tr>\n",
       "    <tr>\n",
       "      <th>3</th>\n",
       "      <td>The Glow, Pt. 2</td>\n",
       "      <td>The Microphones</td>\n",
       "      <td>2001-09-11</td>\n",
       "      <td>2001</td>\n",
       "      <td>20</td>\n",
       "      <td>P.W. Elverum &amp; Sun</td>\n",
       "      <td>53</td>\n",
       "      <td>6QYoRO2sXThCORAifrP4Bl</td>\n",
       "      <td>https://i.scdn.co/image/ab67616d0000b27300c91c...</td>\n",
       "    </tr>\n",
       "    <tr>\n",
       "      <th>4</th>\n",
       "      <td>Lift Your Skinny Fists Like Antennas to Heaven</td>\n",
       "      <td>Godspeed You! Black Emperor</td>\n",
       "      <td>2000-01-01</td>\n",
       "      <td>2000</td>\n",
       "      <td>4</td>\n",
       "      <td>kranky</td>\n",
       "      <td>40</td>\n",
       "      <td>2rT82YYlV9UoxBYLIezkRq</td>\n",
       "      <td>https://i.scdn.co/image/ab67616d0000b2730791c8...</td>\n",
       "    </tr>\n",
       "    <tr>\n",
       "      <th>...</th>\n",
       "      <td>...</td>\n",
       "      <td>...</td>\n",
       "      <td>...</td>\n",
       "      <td>...</td>\n",
       "      <td>...</td>\n",
       "      <td>...</td>\n",
       "      <td>...</td>\n",
       "      <td>...</td>\n",
       "      <td>...</td>\n",
       "    </tr>\n",
       "    <tr>\n",
       "      <th>469</th>\n",
       "      <td>Legend - The Best Of Bob Marley And The Wailers</td>\n",
       "      <td>Bob Marley &amp; The Wailers</td>\n",
       "      <td>2002-01-01</td>\n",
       "      <td>2002</td>\n",
       "      <td>16</td>\n",
       "      <td>UMC (Universal Music Catalogue)</td>\n",
       "      <td>72</td>\n",
       "      <td>4jKeipwuUTjlx9USNYdhZn</td>\n",
       "      <td>https://i.scdn.co/image/ab67616d0000b273413a6c...</td>\n",
       "    </tr>\n",
       "    <tr>\n",
       "      <th>470</th>\n",
       "      <td>The Very Best of Daryl Hall / John Oates</td>\n",
       "      <td>Daryl Hall &amp; John Oates</td>\n",
       "      <td>2001-01-23</td>\n",
       "      <td>2001</td>\n",
       "      <td>18</td>\n",
       "      <td>RCA Records Label</td>\n",
       "      <td>58</td>\n",
       "      <td>4tUyNf5dGXwY4TaMaxwhqF</td>\n",
       "      <td>https://i.scdn.co/image/ab67616d0000b273f43547...</td>\n",
       "    </tr>\n",
       "    <tr>\n",
       "      <th>471</th>\n",
       "      <td>Bowie at the Beeb (The Best of the BBC Session...</td>\n",
       "      <td>David Bowie</td>\n",
       "      <td>2000-09-25</td>\n",
       "      <td>2000</td>\n",
       "      <td>37</td>\n",
       "      <td>Parlophone UK</td>\n",
       "      <td>35</td>\n",
       "      <td>29RCxn2H66nE9O1454d26L</td>\n",
       "      <td>https://i.scdn.co/image/ab67616d0000b2737e499e...</td>\n",
       "    </tr>\n",
       "    <tr>\n",
       "      <th>472</th>\n",
       "      <td>1 (Remastered)</td>\n",
       "      <td>The Beatles</td>\n",
       "      <td>2000-11-13</td>\n",
       "      <td>2000</td>\n",
       "      <td>27</td>\n",
       "      <td>UMC (Universal Music Catalogue)</td>\n",
       "      <td>75</td>\n",
       "      <td>7vEJAtP3KgKSpOHVgwm3Eh</td>\n",
       "      <td>https://i.scdn.co/image/ab67616d0000b273582d56...</td>\n",
       "    </tr>\n",
       "    <tr>\n",
       "      <th>473</th>\n",
       "      <td>Legacy (The Very Best Of David Bowie, Deluxe)</td>\n",
       "      <td>David Bowie</td>\n",
       "      <td>2016-11-11</td>\n",
       "      <td>2016</td>\n",
       "      <td>40</td>\n",
       "      <td>Rhino</td>\n",
       "      <td>49</td>\n",
       "      <td>4JEgSaokMH5mMRClx9wp3S</td>\n",
       "      <td>https://i.scdn.co/image/ab67616d0000b273edf78b...</td>\n",
       "    </tr>\n",
       "  </tbody>\n",
       "</table>\n",
       "<p>474 rows × 9 columns</p>\n",
       "</div>"
      ],
      "text/plain": [
       "                                                 Album  \\\n",
       "0                                             Souvlaki   \n",
       "1                     Remain in Light (Deluxe Version)   \n",
       "2                                98.12.28 男達の別れ (Live)   \n",
       "3                                      The Glow, Pt. 2   \n",
       "4       Lift Your Skinny Fists Like Antennas to Heaven   \n",
       "..                                                 ...   \n",
       "469    Legend - The Best Of Bob Marley And The Wailers   \n",
       "470           The Very Best of Daryl Hall / John Oates   \n",
       "471  Bowie at the Beeb (The Best of the BBC Session...   \n",
       "472                                     1 (Remastered)   \n",
       "473      Legacy (The Very Best Of David Bowie, Deluxe)   \n",
       "\n",
       "                          Artist Release Date  Year No. Tracks  \\\n",
       "0                       Slowdive   1994-11-05  1994         19   \n",
       "1                  Talking Heads   1980-10-08  1980         12   \n",
       "2                       Fishmans   1999-09-29  1999         14   \n",
       "3                The Microphones   2001-09-11  2001         20   \n",
       "4    Godspeed You! Black Emperor   2000-01-01  2000          4   \n",
       "..                           ...          ...   ...        ...   \n",
       "469     Bob Marley & The Wailers   2002-01-01  2002         16   \n",
       "470      Daryl Hall & John Oates   2001-01-23  2001         18   \n",
       "471                  David Bowie   2000-09-25  2000         37   \n",
       "472                  The Beatles   2000-11-13  2000         27   \n",
       "473                  David Bowie   2016-11-11  2016         40   \n",
       "\n",
       "                               Label Popularity                      id  \\\n",
       "0                      Sony Music UK         49  4i21O3uVh5palcfFhCjlT7   \n",
       "1               Rhino/Warner Records         62  3AQgdwMNCiN7awXch5fAaG   \n",
       "2                Universal Music LLC         43  5K4YFkTizFoMOyN5Khfp7G   \n",
       "3                 P.W. Elverum & Sun         53  6QYoRO2sXThCORAifrP4Bl   \n",
       "4                             kranky         40  2rT82YYlV9UoxBYLIezkRq   \n",
       "..                               ...        ...                     ...   \n",
       "469  UMC (Universal Music Catalogue)         72  4jKeipwuUTjlx9USNYdhZn   \n",
       "470                RCA Records Label         58  4tUyNf5dGXwY4TaMaxwhqF   \n",
       "471                    Parlophone UK         35  29RCxn2H66nE9O1454d26L   \n",
       "472  UMC (Universal Music Catalogue)         75  7vEJAtP3KgKSpOHVgwm3Eh   \n",
       "473                            Rhino         49  4JEgSaokMH5mMRClx9wp3S   \n",
       "\n",
       "                                             Album Art  \n",
       "0    https://i.scdn.co/image/ab67616d0000b27353da07...  \n",
       "1    https://i.scdn.co/image/ab67616d0000b273e56fa8...  \n",
       "2    https://i.scdn.co/image/ab67616d0000b273b8b2f6...  \n",
       "3    https://i.scdn.co/image/ab67616d0000b27300c91c...  \n",
       "4    https://i.scdn.co/image/ab67616d0000b2730791c8...  \n",
       "..                                                 ...  \n",
       "469  https://i.scdn.co/image/ab67616d0000b273413a6c...  \n",
       "470  https://i.scdn.co/image/ab67616d0000b273f43547...  \n",
       "471  https://i.scdn.co/image/ab67616d0000b2737e499e...  \n",
       "472  https://i.scdn.co/image/ab67616d0000b273582d56...  \n",
       "473  https://i.scdn.co/image/ab67616d0000b273edf78b...  \n",
       "\n",
       "[474 rows x 9 columns]"
      ]
     },
     "execution_count": 13,
     "metadata": {},
     "output_type": "execute_result"
    }
   ],
   "source": [
    "spotify_album_df"
   ]
  },
  {
   "cell_type": "code",
   "execution_count": 14,
   "metadata": {
    "ExecuteTime": {
     "end_time": "2021-08-11T12:51:59.504091Z",
     "start_time": "2021-08-11T12:51:59.424892Z"
    }
   },
   "outputs": [],
   "source": [
    "death = spotify_album_df.loc[spotify_album_df['Album'] == 'Exmilitary']\n",
    "spotify_album_df.at[death.index,'Album Art'] = 'https://e.snmc.io/i/fullres/w/261b220ac09be6686d078e5f7e1a27b1/7024368'\n",
    "spotify_album_df.at[death.index,'Label'] = 'Third Worlds'\n",
    "spotify_album_df.at[death.index,'Release Date'] = '2011'\n",
    "\n",
    "\n",
    "space = spotify_album_df.loc[spotify_album_df['Album'] == 'The Perfect Prescription']\n",
    "spotify_album_df.at[space.index,'Album Art'] = 'https://e.snmc.io/i/fullres/w/21af1a0b9cce1179443bd4559ead6385/1448700'\n",
    "spotify_album_df.at[space.index,'Label'] = 'Glass'\n",
    "\n",
    "micro = spotify_album_df.loc[spotify_album_df['Album'] == 'Microphones in 2020']\n",
    "spotify_album_df.at[micro.index,'Album Art'] = 'https://e.snmc.io/i/fullres/w/2a91f1444ba652361e2d58d57c2b33d9/8449827'\n",
    "spotify_album_df.at[micro.index,'Label'] = 'P.W. Elverum & Sun'\n",
    "\n",
    "k2049 = spotify_album_df.loc[spotify_album_df['Album'] == '2049 (DELUXE EDITION)']\n",
    "spotify_album_df.at[k2049.index,'Album Art'] = 'https://e.snmc.io/i/fullres/w/67e3581a08d9378d52383cec624e0011/8438288'\n",
    "spotify_album_df.at[k2049.index,'Label'] = 'Toasty Digitial'\n",
    "\n",
    "guruh = spotify_album_df.loc[spotify_album_df['Album'] == 'Guruh Gipsy']\n",
    "spotify_album_df.at[guruh.index,'Album Art'] = 'https://cdn2.albumoftheyear.org/345x/album/78896-guruh-gipsy.jpg'\n",
    "spotify_album_df.at[guruh.index,'Label'] = 'Pramaqua'\n",
    "\n",
    "\n",
    "microphones = spotify_album_df.loc\n",
    "\n",
    "years = [['Green','Exmilitary','The Perfect Prescription', 'Zombie','New Mexico','Mambo Nassau Remastered','Souvlaki','Wait Long By the River and the Bodies of Your Enemies Will Float By', 'Paebiru', 'Microphones in 2020', '2049 (DELUXE EDITION)','Guruh Gipsy'],[1986, 2011, 1987, 1977, 1982, 1981, 1993, 2005, 1975, 2020, 2020, 1966]]\n",
    "for i in range(0,len(years[0])):\n",
    "    loc = spotify_album_df.loc[spotify_album_df['Album'] == years[0][i]]\n",
    "    spotify_album_df.at[loc.index,'Year'] = years[1][i]\n",
    "\n",
    "\n",
    "    \n"
   ]
  },
  {
   "cell_type": "code",
   "execution_count": 15,
   "metadata": {
    "ExecuteTime": {
     "end_time": "2021-08-11T12:52:01.983448Z",
     "start_time": "2021-08-11T12:52:01.973777Z"
    }
   },
   "outputs": [
    {
     "data": {
      "text/plain": [
       "Album                                       98.12.28 男達の別れ (Live)\n",
       "Artist                                                   Fishmans\n",
       "Release Date                                           1999-09-29\n",
       "Year                                                         1999\n",
       "No. Tracks                                                     14\n",
       "Label                                         Universal Music LLC\n",
       "Popularity                                                     43\n",
       "id                                         5K4YFkTizFoMOyN5Khfp7G\n",
       "Album Art       https://i.scdn.co/image/ab67616d0000b273b8b2f6...\n",
       "Name: 2, dtype: object"
      ]
     },
     "execution_count": 15,
     "metadata": {},
     "output_type": "execute_result"
    }
   ],
   "source": [
    "spotify_album_df.iloc[2]"
   ]
  },
  {
   "cell_type": "code",
   "execution_count": 16,
   "metadata": {
    "ExecuteTime": {
     "end_time": "2021-08-11T12:52:09.014940Z",
     "start_time": "2021-08-11T12:52:08.986960Z"
    }
   },
   "outputs": [],
   "source": [
    "spotify_album_df.to_csv(r'spotify_df_g.csv',index=False, encoding='utf-8')"
   ]
  },
  {
   "cell_type": "code",
   "execution_count": 1,
   "metadata": {},
   "outputs": [
    {
     "ename": "NameError",
     "evalue": "name 'spotify_album_df' is not defined",
     "output_type": "error",
     "traceback": [
      "\u001b[0;31m---------------------------------------------------------------------------\u001b[0m",
      "\u001b[0;31mNameError\u001b[0m                                 Traceback (most recent call last)",
      "\u001b[0;32m<ipython-input-1-1bc4b50a0ad8>\u001b[0m in \u001b[0;36m<module>\u001b[0;34m\u001b[0m\n\u001b[0;32m----> 1\u001b[0;31m \u001b[0mspotify_album_df\u001b[0m\u001b[0;34m\u001b[0m\u001b[0;34m\u001b[0m\u001b[0m\n\u001b[0m",
      "\u001b[0;31mNameError\u001b[0m: name 'spotify_album_df' is not defined"
     ]
    }
   ],
   "source": [
    "spotify_album_df"
   ]
  },
  {
   "cell_type": "code",
   "execution_count": null,
   "metadata": {},
   "outputs": [],
   "source": []
  }
 ],
 "metadata": {
  "kernelspec": {
   "display_name": "Python 3",
   "language": "python",
   "name": "python3"
  },
  "language_info": {
   "codemirror_mode": {
    "name": "ipython",
    "version": 3
   },
   "file_extension": ".py",
   "mimetype": "text/x-python",
   "name": "python",
   "nbconvert_exporter": "python",
   "pygments_lexer": "ipython3",
   "version": "3.7.4"
  },
  "varInspector": {
   "cols": {
    "lenName": 16,
    "lenType": 16,
    "lenVar": 40
   },
   "kernels_config": {
    "python": {
     "delete_cmd_postfix": "",
     "delete_cmd_prefix": "del ",
     "library": "var_list.py",
     "varRefreshCmd": "print(var_dic_list())"
    },
    "r": {
     "delete_cmd_postfix": ") ",
     "delete_cmd_prefix": "rm(",
     "library": "var_list.r",
     "varRefreshCmd": "cat(var_dic_list()) "
    }
   },
   "types_to_exclude": [
    "module",
    "function",
    "builtin_function_or_method",
    "instance",
    "_Feature"
   ],
   "window_display": false
  }
 },
 "nbformat": 4,
 "nbformat_minor": 4
}
